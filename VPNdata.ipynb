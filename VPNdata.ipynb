{
 "cells": [
  {
   "cell_type": "code",
   "execution_count": 27,
   "id": "2fbdb00a",
   "metadata": {},
   "outputs": [],
   "source": [
    "import pandas as pd\n",
    "import numpy as np\n",
    "pd.options.mode.chained_assignment = None  # default='warn'\n",
    "import matplotlib.pyplot as plt\n",
    "%matplotlib inline\n",
    "from sklearn import svm\n",
    "from matplotlib import style\n",
    "style.use(\"ggplot\")"
   ]
  },
  {
   "cell_type": "markdown",
   "id": "95471f79",
   "metadata": {},
   "source": [
    "# Datan kuvaus"
   ]
  },
  {
   "cell_type": "code",
   "execution_count": 2,
   "id": "0fe72e0b",
   "metadata": {},
   "outputs": [],
   "source": [
    "vpn_data = pd.read_hdf(r\"/home/jailklee/Koneoppimismenetelmia/VNAT_Dataframe_release_1.h5\")"
   ]
  },
  {
   "cell_type": "code",
   "execution_count": 3,
   "id": "8f130f7c",
   "metadata": {
    "scrolled": true
   },
   "outputs": [
    {
     "data": {
      "text/html": [
       "<div>\n",
       "<style scoped>\n",
       "    .dataframe tbody tr th:only-of-type {\n",
       "        vertical-align: middle;\n",
       "    }\n",
       "\n",
       "    .dataframe tbody tr th {\n",
       "        vertical-align: top;\n",
       "    }\n",
       "\n",
       "    .dataframe thead th {\n",
       "        text-align: right;\n",
       "    }\n",
       "</style>\n",
       "<table border=\"1\" class=\"dataframe\">\n",
       "  <thead>\n",
       "    <tr style=\"text-align: right;\">\n",
       "      <th></th>\n",
       "      <th>connection</th>\n",
       "      <th>timestamps</th>\n",
       "      <th>sizes</th>\n",
       "      <th>directions</th>\n",
       "      <th>file_names</th>\n",
       "    </tr>\n",
       "  </thead>\n",
       "  <tbody>\n",
       "    <tr>\n",
       "      <th>0</th>\n",
       "      <td>(10.123.1.2, 1195, 10.123.1.1, 1195, 17)</td>\n",
       "      <td>[1563289706.330096, 1563289706.330207, 1563289...</td>\n",
       "      <td>[120, 88, 120, 88, 120, 88, 120, 120, 152, 120...</td>\n",
       "      <td>[1, 0, 0, 1, 1, 0, 0, 0, 1, 1, 0, 1, 1, 0, 0, ...</td>\n",
       "      <td>vpn_youtube_capture2.pcap</td>\n",
       "    </tr>\n",
       "    <tr>\n",
       "      <th>0</th>\n",
       "      <td>(10.113.1.2, 22924, 10.115.1.2, 53, 17)</td>\n",
       "      <td>[1561391908.523659, 1561391908.524042]</td>\n",
       "      <td>[63, 79]</td>\n",
       "      <td>[1, 0]</td>\n",
       "      <td>nonvpn_sftp_newcapture1.pcap</td>\n",
       "    </tr>\n",
       "    <tr>\n",
       "      <th>1</th>\n",
       "      <td>(10.113.1.2, 53065, 10.115.1.2, 53, 17)</td>\n",
       "      <td>[1561391908.523706, 1561391908.524059]</td>\n",
       "      <td>[63, 63]</td>\n",
       "      <td>[1, 0]</td>\n",
       "      <td>nonvpn_sftp_newcapture1.pcap</td>\n",
       "    </tr>\n",
       "    <tr>\n",
       "      <th>2</th>\n",
       "      <td>(10.113.1.150, 39816, 10.115.1.123, 22, 6)</td>\n",
       "      <td>[1561391908.524836, 1561391908.525027, 1561391...</td>\n",
       "      <td>[60, 60, 52, 73, 52, 73, 52, 1378, 222, 52, 13...</td>\n",
       "      <td>[1, 0, 1, 1, 0, 0, 1, 1, 1, 0, 0, 1, 0, 1, 0, ...</td>\n",
       "      <td>nonvpn_sftp_newcapture1.pcap</td>\n",
       "    </tr>\n",
       "    <tr>\n",
       "      <th>3</th>\n",
       "      <td>(10.115.1.2, 6589, 10.113.1.2, 53, 17)</td>\n",
       "      <td>[1561391908.594887, 1561391908.595301]</td>\n",
       "      <td>[51, 102]</td>\n",
       "      <td>[1, 0]</td>\n",
       "      <td>nonvpn_sftp_newcapture1.pcap</td>\n",
       "    </tr>\n",
       "  </tbody>\n",
       "</table>\n",
       "</div>"
      ],
      "text/plain": [
       "                                   connection  \\\n",
       "0    (10.123.1.2, 1195, 10.123.1.1, 1195, 17)   \n",
       "0     (10.113.1.2, 22924, 10.115.1.2, 53, 17)   \n",
       "1     (10.113.1.2, 53065, 10.115.1.2, 53, 17)   \n",
       "2  (10.113.1.150, 39816, 10.115.1.123, 22, 6)   \n",
       "3      (10.115.1.2, 6589, 10.113.1.2, 53, 17)   \n",
       "\n",
       "                                          timestamps  \\\n",
       "0  [1563289706.330096, 1563289706.330207, 1563289...   \n",
       "0             [1561391908.523659, 1561391908.524042]   \n",
       "1             [1561391908.523706, 1561391908.524059]   \n",
       "2  [1561391908.524836, 1561391908.525027, 1561391...   \n",
       "3             [1561391908.594887, 1561391908.595301]   \n",
       "\n",
       "                                               sizes  \\\n",
       "0  [120, 88, 120, 88, 120, 88, 120, 120, 152, 120...   \n",
       "0                                           [63, 79]   \n",
       "1                                           [63, 63]   \n",
       "2  [60, 60, 52, 73, 52, 73, 52, 1378, 222, 52, 13...   \n",
       "3                                          [51, 102]   \n",
       "\n",
       "                                          directions  \\\n",
       "0  [1, 0, 0, 1, 1, 0, 0, 0, 1, 1, 0, 1, 1, 0, 0, ...   \n",
       "0                                             [1, 0]   \n",
       "1                                             [1, 0]   \n",
       "2  [1, 0, 1, 1, 0, 0, 1, 1, 1, 0, 0, 1, 0, 1, 0, ...   \n",
       "3                                             [1, 0]   \n",
       "\n",
       "                     file_names  \n",
       "0     vpn_youtube_capture2.pcap  \n",
       "0  nonvpn_sftp_newcapture1.pcap  \n",
       "1  nonvpn_sftp_newcapture1.pcap  \n",
       "2  nonvpn_sftp_newcapture1.pcap  \n",
       "3  nonvpn_sftp_newcapture1.pcap  "
      ]
     },
     "execution_count": 3,
     "metadata": {},
     "output_type": "execute_result"
    }
   ],
   "source": [
    "vpn_data.head()"
   ]
  },
  {
   "cell_type": "code",
   "execution_count": 4,
   "id": "0eb0d040",
   "metadata": {},
   "outputs": [
    {
     "data": {
      "text/plain": [
       "(33711, 5)"
      ]
     },
     "execution_count": 4,
     "metadata": {},
     "output_type": "execute_result"
    }
   ],
   "source": [
    "vpn_data.shape"
   ]
  },
  {
   "cell_type": "code",
   "execution_count": 5,
   "id": "d0676e70",
   "metadata": {},
   "outputs": [
    {
     "data": {
      "text/plain": [
       "pandas.core.frame.DataFrame"
      ]
     },
     "execution_count": 5,
     "metadata": {},
     "output_type": "execute_result"
    }
   ],
   "source": [
    "type(vpn_data)"
   ]
  },
  {
   "cell_type": "code",
   "execution_count": 6,
   "id": "b8ba6220",
   "metadata": {},
   "outputs": [
    {
     "data": {
      "text/html": [
       "<div>\n",
       "<style scoped>\n",
       "    .dataframe tbody tr th:only-of-type {\n",
       "        vertical-align: middle;\n",
       "    }\n",
       "\n",
       "    .dataframe tbody tr th {\n",
       "        vertical-align: top;\n",
       "    }\n",
       "\n",
       "    .dataframe thead th {\n",
       "        text-align: right;\n",
       "    }\n",
       "</style>\n",
       "<table border=\"1\" class=\"dataframe\">\n",
       "  <thead>\n",
       "    <tr style=\"text-align: right;\">\n",
       "      <th></th>\n",
       "      <th>connection</th>\n",
       "      <th>timestamps</th>\n",
       "      <th>sizes</th>\n",
       "      <th>directions</th>\n",
       "      <th>file_names</th>\n",
       "    </tr>\n",
       "  </thead>\n",
       "  <tbody>\n",
       "    <tr>\n",
       "      <th>count</th>\n",
       "      <td>33711</td>\n",
       "      <td>33711</td>\n",
       "      <td>33711</td>\n",
       "      <td>33711</td>\n",
       "      <td>33711</td>\n",
       "    </tr>\n",
       "    <tr>\n",
       "      <th>unique</th>\n",
       "      <td>32682</td>\n",
       "      <td>33710</td>\n",
       "      <td>2767</td>\n",
       "      <td>2248</td>\n",
       "      <td>165</td>\n",
       "    </tr>\n",
       "    <tr>\n",
       "      <th>top</th>\n",
       "      <td>(10.117.1.2, 1195, 10.117.1.1, 1195, 17)</td>\n",
       "      <td>[1563316960.771979, 1563316960.774461, 1563316...</td>\n",
       "      <td>[63, 79]</td>\n",
       "      <td>[1, 0]</td>\n",
       "      <td>nonvpn_ssh_capture5.pcap</td>\n",
       "    </tr>\n",
       "    <tr>\n",
       "      <th>freq</th>\n",
       "      <td>32</td>\n",
       "      <td>2</td>\n",
       "      <td>6203</td>\n",
       "      <td>25569</td>\n",
       "      <td>11368</td>\n",
       "    </tr>\n",
       "  </tbody>\n",
       "</table>\n",
       "</div>"
      ],
      "text/plain": [
       "                                      connection  \\\n",
       "count                                      33711   \n",
       "unique                                     32682   \n",
       "top     (10.117.1.2, 1195, 10.117.1.1, 1195, 17)   \n",
       "freq                                          32   \n",
       "\n",
       "                                               timestamps     sizes  \\\n",
       "count                                               33711     33711   \n",
       "unique                                              33710      2767   \n",
       "top     [1563316960.771979, 1563316960.774461, 1563316...  [63, 79]   \n",
       "freq                                                    2      6203   \n",
       "\n",
       "       directions                file_names  \n",
       "count       33711                     33711  \n",
       "unique       2248                       165  \n",
       "top        [1, 0]  nonvpn_ssh_capture5.pcap  \n",
       "freq        25569                     11368  "
      ]
     },
     "execution_count": 6,
     "metadata": {},
     "output_type": "execute_result"
    }
   ],
   "source": [
    "vpn_data.describe()"
   ]
  },
  {
   "cell_type": "code",
   "execution_count": 6,
   "id": "a98aa683",
   "metadata": {},
   "outputs": [
    {
     "name": "stdout",
     "output_type": "stream",
     "text": [
      "<class 'pandas.core.frame.DataFrame'>\n",
      "Int64Index: 33711 entries, 0 to 0\n",
      "Data columns (total 5 columns):\n",
      " #   Column      Non-Null Count  Dtype \n",
      "---  ------      --------------  ----- \n",
      " 0   connection  33711 non-null  object\n",
      " 1   timestamps  33711 non-null  object\n",
      " 2   sizes       33711 non-null  object\n",
      " 3   directions  33711 non-null  object\n",
      " 4   file_names  33711 non-null  object\n",
      "dtypes: object(5)\n",
      "memory usage: 1.5+ MB\n"
     ]
    }
   ],
   "source": [
    "vpn_data.info()"
   ]
  },
  {
   "cell_type": "markdown",
   "id": "30c45ae2",
   "metadata": {},
   "source": [
    "# There are no null values in the data"
   ]
  },
  {
   "cell_type": "markdown",
   "id": "9ddbdcc6",
   "metadata": {},
   "source": [
    "Don't need to do data cleaning with null values"
   ]
  },
  {
   "cell_type": "code",
   "execution_count": 7,
   "id": "76436a71",
   "metadata": {},
   "outputs": [
    {
     "data": {
      "text/html": [
       "<div>\n",
       "<style scoped>\n",
       "    .dataframe tbody tr th:only-of-type {\n",
       "        vertical-align: middle;\n",
       "    }\n",
       "\n",
       "    .dataframe tbody tr th {\n",
       "        vertical-align: top;\n",
       "    }\n",
       "\n",
       "    .dataframe thead th {\n",
       "        text-align: right;\n",
       "    }\n",
       "</style>\n",
       "<table border=\"1\" class=\"dataframe\">\n",
       "  <thead>\n",
       "    <tr style=\"text-align: right;\">\n",
       "      <th></th>\n",
       "      <th>connection</th>\n",
       "      <th>timestamps</th>\n",
       "      <th>sizes</th>\n",
       "      <th>directions</th>\n",
       "      <th>file_names</th>\n",
       "    </tr>\n",
       "  </thead>\n",
       "  <tbody>\n",
       "    <tr>\n",
       "      <th>0</th>\n",
       "      <td>False</td>\n",
       "      <td>False</td>\n",
       "      <td>False</td>\n",
       "      <td>False</td>\n",
       "      <td>False</td>\n",
       "    </tr>\n",
       "    <tr>\n",
       "      <th>0</th>\n",
       "      <td>False</td>\n",
       "      <td>False</td>\n",
       "      <td>False</td>\n",
       "      <td>False</td>\n",
       "      <td>False</td>\n",
       "    </tr>\n",
       "    <tr>\n",
       "      <th>1</th>\n",
       "      <td>False</td>\n",
       "      <td>False</td>\n",
       "      <td>False</td>\n",
       "      <td>False</td>\n",
       "      <td>False</td>\n",
       "    </tr>\n",
       "    <tr>\n",
       "      <th>2</th>\n",
       "      <td>False</td>\n",
       "      <td>False</td>\n",
       "      <td>False</td>\n",
       "      <td>False</td>\n",
       "      <td>False</td>\n",
       "    </tr>\n",
       "    <tr>\n",
       "      <th>3</th>\n",
       "      <td>False</td>\n",
       "      <td>False</td>\n",
       "      <td>False</td>\n",
       "      <td>False</td>\n",
       "      <td>False</td>\n",
       "    </tr>\n",
       "    <tr>\n",
       "      <th>...</th>\n",
       "      <td>...</td>\n",
       "      <td>...</td>\n",
       "      <td>...</td>\n",
       "      <td>...</td>\n",
       "      <td>...</td>\n",
       "    </tr>\n",
       "    <tr>\n",
       "      <th>10</th>\n",
       "      <td>False</td>\n",
       "      <td>False</td>\n",
       "      <td>False</td>\n",
       "      <td>False</td>\n",
       "      <td>False</td>\n",
       "    </tr>\n",
       "    <tr>\n",
       "      <th>11</th>\n",
       "      <td>False</td>\n",
       "      <td>False</td>\n",
       "      <td>False</td>\n",
       "      <td>False</td>\n",
       "      <td>False</td>\n",
       "    </tr>\n",
       "    <tr>\n",
       "      <th>12</th>\n",
       "      <td>False</td>\n",
       "      <td>False</td>\n",
       "      <td>False</td>\n",
       "      <td>False</td>\n",
       "      <td>False</td>\n",
       "    </tr>\n",
       "    <tr>\n",
       "      <th>13</th>\n",
       "      <td>False</td>\n",
       "      <td>False</td>\n",
       "      <td>False</td>\n",
       "      <td>False</td>\n",
       "      <td>False</td>\n",
       "    </tr>\n",
       "    <tr>\n",
       "      <th>0</th>\n",
       "      <td>False</td>\n",
       "      <td>False</td>\n",
       "      <td>False</td>\n",
       "      <td>False</td>\n",
       "      <td>False</td>\n",
       "    </tr>\n",
       "  </tbody>\n",
       "</table>\n",
       "<p>33711 rows × 5 columns</p>\n",
       "</div>"
      ],
      "text/plain": [
       "    connection  timestamps  sizes  directions  file_names\n",
       "0        False       False  False       False       False\n",
       "0        False       False  False       False       False\n",
       "1        False       False  False       False       False\n",
       "2        False       False  False       False       False\n",
       "3        False       False  False       False       False\n",
       "..         ...         ...    ...         ...         ...\n",
       "10       False       False  False       False       False\n",
       "11       False       False  False       False       False\n",
       "12       False       False  False       False       False\n",
       "13       False       False  False       False       False\n",
       "0        False       False  False       False       False\n",
       "\n",
       "[33711 rows x 5 columns]"
      ]
     },
     "execution_count": 7,
     "metadata": {},
     "output_type": "execute_result"
    }
   ],
   "source": [
    "vpn_data.isnull()"
   ]
  },
  {
   "cell_type": "code",
   "execution_count": 8,
   "id": "b8ca63ce",
   "metadata": {},
   "outputs": [
    {
     "data": {
      "text/html": [
       "<div>\n",
       "<style scoped>\n",
       "    .dataframe tbody tr th:only-of-type {\n",
       "        vertical-align: middle;\n",
       "    }\n",
       "\n",
       "    .dataframe tbody tr th {\n",
       "        vertical-align: top;\n",
       "    }\n",
       "\n",
       "    .dataframe thead th {\n",
       "        text-align: right;\n",
       "    }\n",
       "</style>\n",
       "<table border=\"1\" class=\"dataframe\">\n",
       "  <thead>\n",
       "    <tr style=\"text-align: right;\">\n",
       "      <th></th>\n",
       "      <th>connection</th>\n",
       "      <th>timestamps</th>\n",
       "      <th>sizes</th>\n",
       "      <th>directions</th>\n",
       "      <th>file_names</th>\n",
       "    </tr>\n",
       "  </thead>\n",
       "  <tbody>\n",
       "    <tr>\n",
       "      <th>0</th>\n",
       "      <td>(10.113.1.2, 22924, 10.115.1.2, 53, 17)</td>\n",
       "      <td>[1561391908.523659, 1561391908.524042]</td>\n",
       "      <td>[63, 79]</td>\n",
       "      <td>[1, 0]</td>\n",
       "      <td>nonvpn_sftp_newcapture1.pcap</td>\n",
       "    </tr>\n",
       "    <tr>\n",
       "      <th>1</th>\n",
       "      <td>(10.113.1.2, 53065, 10.115.1.2, 53, 17)</td>\n",
       "      <td>[1561391908.523706, 1561391908.524059]</td>\n",
       "      <td>[63, 63]</td>\n",
       "      <td>[1, 0]</td>\n",
       "      <td>nonvpn_sftp_newcapture1.pcap</td>\n",
       "    </tr>\n",
       "    <tr>\n",
       "      <th>2</th>\n",
       "      <td>(10.113.1.150, 39816, 10.115.1.123, 22, 6)</td>\n",
       "      <td>[1561391908.524836, 1561391908.525027, 1561391...</td>\n",
       "      <td>[60, 60, 52, 73, 52, 73, 52, 1378, 222, 52, 13...</td>\n",
       "      <td>[1, 0, 1, 1, 0, 0, 1, 1, 1, 0, 0, 1, 0, 1, 0, ...</td>\n",
       "      <td>nonvpn_sftp_newcapture1.pcap</td>\n",
       "    </tr>\n",
       "    <tr>\n",
       "      <th>3</th>\n",
       "      <td>(10.115.1.2, 6589, 10.113.1.2, 53, 17)</td>\n",
       "      <td>[1561391908.594887, 1561391908.595301]</td>\n",
       "      <td>[51, 102]</td>\n",
       "      <td>[1, 0]</td>\n",
       "      <td>nonvpn_sftp_newcapture1.pcap</td>\n",
       "    </tr>\n",
       "    <tr>\n",
       "      <th>4</th>\n",
       "      <td>(10.115.1.2, 7384, 10.113.1.2, 53, 17)</td>\n",
       "      <td>[1561391908.595835, 1561391908.596233]</td>\n",
       "      <td>[63, 79]</td>\n",
       "      <td>[1, 0]</td>\n",
       "      <td>nonvpn_sftp_newcapture1.pcap</td>\n",
       "    </tr>\n",
       "    <tr>\n",
       "      <th>...</th>\n",
       "      <td>...</td>\n",
       "      <td>...</td>\n",
       "      <td>...</td>\n",
       "      <td>...</td>\n",
       "      <td>...</td>\n",
       "    </tr>\n",
       "    <tr>\n",
       "      <th>704</th>\n",
       "      <td>(10.115.1.2, 62590, 10.113.1.2, 53, 17)</td>\n",
       "      <td>[1561393049.753615, 1561393049.753969]</td>\n",
       "      <td>[63, 63]</td>\n",
       "      <td>[1, 0]</td>\n",
       "      <td>nonvpn_sftp_newcapture1.pcap</td>\n",
       "    </tr>\n",
       "    <tr>\n",
       "      <th>705</th>\n",
       "      <td>(10.115.1.2, 36565, 10.113.1.2, 53, 17)</td>\n",
       "      <td>[1561393049.754948, 1561393049.755389]</td>\n",
       "      <td>[63, 79]</td>\n",
       "      <td>[1, 0]</td>\n",
       "      <td>nonvpn_sftp_newcapture1.pcap</td>\n",
       "    </tr>\n",
       "    <tr>\n",
       "      <th>706</th>\n",
       "      <td>(10.115.1.2, 37113, 10.113.1.2, 53, 17)</td>\n",
       "      <td>[1561393049.755005, 1561393049.75545]</td>\n",
       "      <td>[63, 63]</td>\n",
       "      <td>[1, 0]</td>\n",
       "      <td>nonvpn_sftp_newcapture1.pcap</td>\n",
       "    </tr>\n",
       "    <tr>\n",
       "      <th>707</th>\n",
       "      <td>(10.115.1.2, 32851, 10.113.1.2, 53, 17)</td>\n",
       "      <td>[1561393049.755956, 1561393049.756347]</td>\n",
       "      <td>[63, 79]</td>\n",
       "      <td>[1, 0]</td>\n",
       "      <td>nonvpn_sftp_newcapture1.pcap</td>\n",
       "    </tr>\n",
       "    <tr>\n",
       "      <th>708</th>\n",
       "      <td>(10.115.1.2, 44737, 10.113.1.2, 53, 17)</td>\n",
       "      <td>[1561393049.756039, 1561393049.756384]</td>\n",
       "      <td>[63, 63]</td>\n",
       "      <td>[1, 0]</td>\n",
       "      <td>nonvpn_sftp_newcapture1.pcap</td>\n",
       "    </tr>\n",
       "  </tbody>\n",
       "</table>\n",
       "<p>709 rows × 5 columns</p>\n",
       "</div>"
      ],
      "text/plain": [
       "                                     connection  \\\n",
       "0       (10.113.1.2, 22924, 10.115.1.2, 53, 17)   \n",
       "1       (10.113.1.2, 53065, 10.115.1.2, 53, 17)   \n",
       "2    (10.113.1.150, 39816, 10.115.1.123, 22, 6)   \n",
       "3        (10.115.1.2, 6589, 10.113.1.2, 53, 17)   \n",
       "4        (10.115.1.2, 7384, 10.113.1.2, 53, 17)   \n",
       "..                                          ...   \n",
       "704     (10.115.1.2, 62590, 10.113.1.2, 53, 17)   \n",
       "705     (10.115.1.2, 36565, 10.113.1.2, 53, 17)   \n",
       "706     (10.115.1.2, 37113, 10.113.1.2, 53, 17)   \n",
       "707     (10.115.1.2, 32851, 10.113.1.2, 53, 17)   \n",
       "708     (10.115.1.2, 44737, 10.113.1.2, 53, 17)   \n",
       "\n",
       "                                            timestamps  \\\n",
       "0               [1561391908.523659, 1561391908.524042]   \n",
       "1               [1561391908.523706, 1561391908.524059]   \n",
       "2    [1561391908.524836, 1561391908.525027, 1561391...   \n",
       "3               [1561391908.594887, 1561391908.595301]   \n",
       "4               [1561391908.595835, 1561391908.596233]   \n",
       "..                                                 ...   \n",
       "704             [1561393049.753615, 1561393049.753969]   \n",
       "705             [1561393049.754948, 1561393049.755389]   \n",
       "706              [1561393049.755005, 1561393049.75545]   \n",
       "707             [1561393049.755956, 1561393049.756347]   \n",
       "708             [1561393049.756039, 1561393049.756384]   \n",
       "\n",
       "                                                 sizes  \\\n",
       "0                                             [63, 79]   \n",
       "1                                             [63, 63]   \n",
       "2    [60, 60, 52, 73, 52, 73, 52, 1378, 222, 52, 13...   \n",
       "3                                            [51, 102]   \n",
       "4                                             [63, 79]   \n",
       "..                                                 ...   \n",
       "704                                           [63, 63]   \n",
       "705                                           [63, 79]   \n",
       "706                                           [63, 63]   \n",
       "707                                           [63, 79]   \n",
       "708                                           [63, 63]   \n",
       "\n",
       "                                            directions  \\\n",
       "0                                               [1, 0]   \n",
       "1                                               [1, 0]   \n",
       "2    [1, 0, 1, 1, 0, 0, 1, 1, 1, 0, 0, 1, 0, 1, 0, ...   \n",
       "3                                               [1, 0]   \n",
       "4                                               [1, 0]   \n",
       "..                                                 ...   \n",
       "704                                             [1, 0]   \n",
       "705                                             [1, 0]   \n",
       "706                                             [1, 0]   \n",
       "707                                             [1, 0]   \n",
       "708                                             [1, 0]   \n",
       "\n",
       "                       file_names  \n",
       "0    nonvpn_sftp_newcapture1.pcap  \n",
       "1    nonvpn_sftp_newcapture1.pcap  \n",
       "2    nonvpn_sftp_newcapture1.pcap  \n",
       "3    nonvpn_sftp_newcapture1.pcap  \n",
       "4    nonvpn_sftp_newcapture1.pcap  \n",
       "..                            ...  \n",
       "704  nonvpn_sftp_newcapture1.pcap  \n",
       "705  nonvpn_sftp_newcapture1.pcap  \n",
       "706  nonvpn_sftp_newcapture1.pcap  \n",
       "707  nonvpn_sftp_newcapture1.pcap  \n",
       "708  nonvpn_sftp_newcapture1.pcap  \n",
       "\n",
       "[709 rows x 5 columns]"
      ]
     },
     "execution_count": 8,
     "metadata": {},
     "output_type": "execute_result"
    }
   ],
   "source": [
    "vpn_data[vpn_data.file_names == \"nonvpn_sftp_newcapture1.pcap\"]"
   ]
  },
  {
   "cell_type": "code",
   "execution_count": 9,
   "id": "cec07b68",
   "metadata": {},
   "outputs": [
    {
     "data": {
      "text/html": [
       "<div>\n",
       "<style scoped>\n",
       "    .dataframe tbody tr th:only-of-type {\n",
       "        vertical-align: middle;\n",
       "    }\n",
       "\n",
       "    .dataframe tbody tr th {\n",
       "        vertical-align: top;\n",
       "    }\n",
       "\n",
       "    .dataframe thead th {\n",
       "        text-align: right;\n",
       "    }\n",
       "</style>\n",
       "<table border=\"1\" class=\"dataframe\">\n",
       "  <thead>\n",
       "    <tr style=\"text-align: right;\">\n",
       "      <th></th>\n",
       "      <th>connection</th>\n",
       "      <th>timestamps</th>\n",
       "      <th>sizes</th>\n",
       "      <th>directions</th>\n",
       "      <th>file_names</th>\n",
       "    </tr>\n",
       "  </thead>\n",
       "  <tbody>\n",
       "    <tr>\n",
       "      <th>0</th>\n",
       "      <td>(10.123.1.2, 1195, 10.123.1.1, 1195, 17)</td>\n",
       "      <td>[1563289706.330096, 1563289706.330207, 1563289...</td>\n",
       "      <td>[120, 88, 120, 88, 120, 88, 120, 120, 152, 120...</td>\n",
       "      <td>[1, 0, 0, 1, 1, 0, 0, 0, 1, 1, 0, 1, 1, 0, 0, ...</td>\n",
       "      <td>vpn_youtube_capture2.pcap</td>\n",
       "    </tr>\n",
       "    <tr>\n",
       "      <th>0</th>\n",
       "      <td>(10.113.1.2, 22924, 10.115.1.2, 53, 17)</td>\n",
       "      <td>[1561391908.523659, 1561391908.524042]</td>\n",
       "      <td>[63, 79]</td>\n",
       "      <td>[1, 0]</td>\n",
       "      <td>nonvpn_sftp_newcapture1.pcap</td>\n",
       "    </tr>\n",
       "    <tr>\n",
       "      <th>1</th>\n",
       "      <td>(10.113.1.2, 53065, 10.115.1.2, 53, 17)</td>\n",
       "      <td>[1561391908.523706, 1561391908.524059]</td>\n",
       "      <td>[63, 63]</td>\n",
       "      <td>[1, 0]</td>\n",
       "      <td>nonvpn_sftp_newcapture1.pcap</td>\n",
       "    </tr>\n",
       "    <tr>\n",
       "      <th>2</th>\n",
       "      <td>(10.113.1.150, 39816, 10.115.1.123, 22, 6)</td>\n",
       "      <td>[1561391908.524836, 1561391908.525027, 1561391...</td>\n",
       "      <td>[60, 60, 52, 73, 52, 73, 52, 1378, 222, 52, 13...</td>\n",
       "      <td>[1, 0, 1, 1, 0, 0, 1, 1, 1, 0, 0, 1, 0, 1, 0, ...</td>\n",
       "      <td>nonvpn_sftp_newcapture1.pcap</td>\n",
       "    </tr>\n",
       "    <tr>\n",
       "      <th>3</th>\n",
       "      <td>(10.115.1.2, 6589, 10.113.1.2, 53, 17)</td>\n",
       "      <td>[1561391908.594887, 1561391908.595301]</td>\n",
       "      <td>[51, 102]</td>\n",
       "      <td>[1, 0]</td>\n",
       "      <td>nonvpn_sftp_newcapture1.pcap</td>\n",
       "    </tr>\n",
       "    <tr>\n",
       "      <th>4</th>\n",
       "      <td>(10.115.1.2, 7384, 10.113.1.2, 53, 17)</td>\n",
       "      <td>[1561391908.595835, 1561391908.596233]</td>\n",
       "      <td>[63, 79]</td>\n",
       "      <td>[1, 0]</td>\n",
       "      <td>nonvpn_sftp_newcapture1.pcap</td>\n",
       "    </tr>\n",
       "    <tr>\n",
       "      <th>5</th>\n",
       "      <td>(10.113.1.2, 39193, 10.115.1.2, 53, 17)</td>\n",
       "      <td>[1561391908.597869, 1561391908.598052]</td>\n",
       "      <td>[63, 79]</td>\n",
       "      <td>[1, 0]</td>\n",
       "      <td>nonvpn_sftp_newcapture1.pcap</td>\n",
       "    </tr>\n",
       "    <tr>\n",
       "      <th>6</th>\n",
       "      <td>(10.113.1.2, 52599, 10.115.1.2, 53, 17)</td>\n",
       "      <td>[1561391908.597918, 1561391908.598108]</td>\n",
       "      <td>[63, 63]</td>\n",
       "      <td>[1, 0]</td>\n",
       "      <td>nonvpn_sftp_newcapture1.pcap</td>\n",
       "    </tr>\n",
       "    <tr>\n",
       "      <th>7</th>\n",
       "      <td>(10.113.1.2, 19674, 10.115.1.2, 53, 17)</td>\n",
       "      <td>[1561391908.599293, 1561391908.599472]</td>\n",
       "      <td>[63, 79]</td>\n",
       "      <td>[1, 0]</td>\n",
       "      <td>nonvpn_sftp_newcapture1.pcap</td>\n",
       "    </tr>\n",
       "    <tr>\n",
       "      <th>8</th>\n",
       "      <td>(10.113.1.2, 58193, 10.115.1.2, 53, 17)</td>\n",
       "      <td>[1561391908.599351, 1561391908.599529]</td>\n",
       "      <td>[63, 63]</td>\n",
       "      <td>[1, 0]</td>\n",
       "      <td>nonvpn_sftp_newcapture1.pcap</td>\n",
       "    </tr>\n",
       "  </tbody>\n",
       "</table>\n",
       "</div>"
      ],
      "text/plain": [
       "                                   connection  \\\n",
       "0    (10.123.1.2, 1195, 10.123.1.1, 1195, 17)   \n",
       "0     (10.113.1.2, 22924, 10.115.1.2, 53, 17)   \n",
       "1     (10.113.1.2, 53065, 10.115.1.2, 53, 17)   \n",
       "2  (10.113.1.150, 39816, 10.115.1.123, 22, 6)   \n",
       "3      (10.115.1.2, 6589, 10.113.1.2, 53, 17)   \n",
       "4      (10.115.1.2, 7384, 10.113.1.2, 53, 17)   \n",
       "5     (10.113.1.2, 39193, 10.115.1.2, 53, 17)   \n",
       "6     (10.113.1.2, 52599, 10.115.1.2, 53, 17)   \n",
       "7     (10.113.1.2, 19674, 10.115.1.2, 53, 17)   \n",
       "8     (10.113.1.2, 58193, 10.115.1.2, 53, 17)   \n",
       "\n",
       "                                          timestamps  \\\n",
       "0  [1563289706.330096, 1563289706.330207, 1563289...   \n",
       "0             [1561391908.523659, 1561391908.524042]   \n",
       "1             [1561391908.523706, 1561391908.524059]   \n",
       "2  [1561391908.524836, 1561391908.525027, 1561391...   \n",
       "3             [1561391908.594887, 1561391908.595301]   \n",
       "4             [1561391908.595835, 1561391908.596233]   \n",
       "5             [1561391908.597869, 1561391908.598052]   \n",
       "6             [1561391908.597918, 1561391908.598108]   \n",
       "7             [1561391908.599293, 1561391908.599472]   \n",
       "8             [1561391908.599351, 1561391908.599529]   \n",
       "\n",
       "                                               sizes  \\\n",
       "0  [120, 88, 120, 88, 120, 88, 120, 120, 152, 120...   \n",
       "0                                           [63, 79]   \n",
       "1                                           [63, 63]   \n",
       "2  [60, 60, 52, 73, 52, 73, 52, 1378, 222, 52, 13...   \n",
       "3                                          [51, 102]   \n",
       "4                                           [63, 79]   \n",
       "5                                           [63, 79]   \n",
       "6                                           [63, 63]   \n",
       "7                                           [63, 79]   \n",
       "8                                           [63, 63]   \n",
       "\n",
       "                                          directions  \\\n",
       "0  [1, 0, 0, 1, 1, 0, 0, 0, 1, 1, 0, 1, 1, 0, 0, ...   \n",
       "0                                             [1, 0]   \n",
       "1                                             [1, 0]   \n",
       "2  [1, 0, 1, 1, 0, 0, 1, 1, 1, 0, 0, 1, 0, 1, 0, ...   \n",
       "3                                             [1, 0]   \n",
       "4                                             [1, 0]   \n",
       "5                                             [1, 0]   \n",
       "6                                             [1, 0]   \n",
       "7                                             [1, 0]   \n",
       "8                                             [1, 0]   \n",
       "\n",
       "                     file_names  \n",
       "0     vpn_youtube_capture2.pcap  \n",
       "0  nonvpn_sftp_newcapture1.pcap  \n",
       "1  nonvpn_sftp_newcapture1.pcap  \n",
       "2  nonvpn_sftp_newcapture1.pcap  \n",
       "3  nonvpn_sftp_newcapture1.pcap  \n",
       "4  nonvpn_sftp_newcapture1.pcap  \n",
       "5  nonvpn_sftp_newcapture1.pcap  \n",
       "6  nonvpn_sftp_newcapture1.pcap  \n",
       "7  nonvpn_sftp_newcapture1.pcap  \n",
       "8  nonvpn_sftp_newcapture1.pcap  "
      ]
     },
     "execution_count": 9,
     "metadata": {},
     "output_type": "execute_result"
    }
   ],
   "source": [
    "vpn_data.head(10)"
   ]
  },
  {
   "cell_type": "code",
   "execution_count": 10,
   "id": "783881e9",
   "metadata": {
    "scrolled": true
   },
   "outputs": [
    {
     "name": "stdout",
     "output_type": "stream",
     "text": [
      "<class 'pandas.core.series.Series'>\n",
      "Int64Index: 33711 entries, 0 to 0\n",
      "Series name: directions\n",
      "Non-Null Count  Dtype \n",
      "--------------  ----- \n",
      "33711 non-null  object\n",
      "dtypes: object(1)\n",
      "memory usage: 526.7+ KB\n"
     ]
    }
   ],
   "source": [
    "vpn_data.directions.info()"
   ]
  },
  {
   "cell_type": "markdown",
   "id": "22ce2dbd",
   "metadata": {},
   "source": [
    "# Datan esikäsittely ja menetelmän esittely"
   ]
  },
  {
   "cell_type": "code",
   "execution_count": 3,
   "id": "a6267bab",
   "metadata": {},
   "outputs": [],
   "source": [
    "vpn_data['directions'] = vpn_data['directions'].astype('str')\n",
    "vpn_data['directionstotal'] = vpn_data['directions'].apply(lambda n: len(n.split(',')))"
   ]
  },
  {
   "cell_type": "markdown",
   "id": "6eb9f64f",
   "metadata": {},
   "source": [
    "# Number of directions/file"
   ]
  },
  {
   "cell_type": "code",
   "execution_count": 4,
   "id": "eebcb093",
   "metadata": {
    "scrolled": false
   },
   "outputs": [
    {
     "data": {
      "text/html": [
       "<div>\n",
       "<style scoped>\n",
       "    .dataframe tbody tr th:only-of-type {\n",
       "        vertical-align: middle;\n",
       "    }\n",
       "\n",
       "    .dataframe tbody tr th {\n",
       "        vertical-align: top;\n",
       "    }\n",
       "\n",
       "    .dataframe thead th {\n",
       "        text-align: right;\n",
       "    }\n",
       "</style>\n",
       "<table border=\"1\" class=\"dataframe\">\n",
       "  <thead>\n",
       "    <tr style=\"text-align: right;\">\n",
       "      <th></th>\n",
       "      <th>directions</th>\n",
       "      <th>directionstotal</th>\n",
       "    </tr>\n",
       "  </thead>\n",
       "  <tbody>\n",
       "    <tr>\n",
       "      <th>0</th>\n",
       "      <td>[1, 0, 0, 1, 1, 0, 0, 0, 1, 1, 0, 1, 1, 0, 0, ...</td>\n",
       "      <td>62283</td>\n",
       "    </tr>\n",
       "    <tr>\n",
       "      <th>0</th>\n",
       "      <td>[1, 0]</td>\n",
       "      <td>2</td>\n",
       "    </tr>\n",
       "    <tr>\n",
       "      <th>1</th>\n",
       "      <td>[1, 0]</td>\n",
       "      <td>2</td>\n",
       "    </tr>\n",
       "    <tr>\n",
       "      <th>2</th>\n",
       "      <td>[1, 0, 1, 1, 0, 0, 1, 1, 1, 0, 0, 1, 0, 1, 0, ...</td>\n",
       "      <td>2002346</td>\n",
       "    </tr>\n",
       "    <tr>\n",
       "      <th>3</th>\n",
       "      <td>[1, 0]</td>\n",
       "      <td>2</td>\n",
       "    </tr>\n",
       "    <tr>\n",
       "      <th>...</th>\n",
       "      <td>...</td>\n",
       "      <td>...</td>\n",
       "    </tr>\n",
       "    <tr>\n",
       "      <th>10</th>\n",
       "      <td>[1]</td>\n",
       "      <td>1</td>\n",
       "    </tr>\n",
       "    <tr>\n",
       "      <th>11</th>\n",
       "      <td>[1, 0]</td>\n",
       "      <td>2</td>\n",
       "    </tr>\n",
       "    <tr>\n",
       "      <th>12</th>\n",
       "      <td>[1, 0, 1, 1, 0, 1, 0, 1, 1, 1, 0, 0, 1, 0, 1, ...</td>\n",
       "      <td>24</td>\n",
       "    </tr>\n",
       "    <tr>\n",
       "      <th>13</th>\n",
       "      <td>[1, 0, 1, 1, 0, 1, 0, 1, 1, 1, 0, 0, 1, 0, 1, ...</td>\n",
       "      <td>24</td>\n",
       "    </tr>\n",
       "    <tr>\n",
       "      <th>0</th>\n",
       "      <td>[1, 0, 1, 0, 1, 0, 1, 0, 1, 0, 1, 1, 0, 1, 0, ...</td>\n",
       "      <td>5684</td>\n",
       "    </tr>\n",
       "  </tbody>\n",
       "</table>\n",
       "<p>33711 rows × 2 columns</p>\n",
       "</div>"
      ],
      "text/plain": [
       "                                           directions  directionstotal\n",
       "0   [1, 0, 0, 1, 1, 0, 0, 0, 1, 1, 0, 1, 1, 0, 0, ...            62283\n",
       "0                                              [1, 0]                2\n",
       "1                                              [1, 0]                2\n",
       "2   [1, 0, 1, 1, 0, 0, 1, 1, 1, 0, 0, 1, 0, 1, 0, ...          2002346\n",
       "3                                              [1, 0]                2\n",
       "..                                                ...              ...\n",
       "10                                                [1]                1\n",
       "11                                             [1, 0]                2\n",
       "12  [1, 0, 1, 1, 0, 1, 0, 1, 1, 1, 0, 0, 1, 0, 1, ...               24\n",
       "13  [1, 0, 1, 1, 0, 1, 0, 1, 1, 1, 0, 0, 1, 0, 1, ...               24\n",
       "0   [1, 0, 1, 0, 1, 0, 1, 0, 1, 0, 1, 1, 0, 1, 0, ...             5684\n",
       "\n",
       "[33711 rows x 2 columns]"
      ]
     },
     "execution_count": 4,
     "metadata": {},
     "output_type": "execute_result"
    }
   ],
   "source": [
    "vpn_data[['directions', 'directionstotal']]"
   ]
  },
  {
   "cell_type": "code",
   "execution_count": 10,
   "id": "2aac2a00",
   "metadata": {
    "scrolled": false
   },
   "outputs": [
    {
     "name": "stdout",
     "output_type": "stream",
     "text": [
      "<class 'pandas.core.frame.DataFrame'>\n",
      "Int64Index: 33711 entries, 0 to 0\n",
      "Data columns (total 6 columns):\n",
      " #   Column           Non-Null Count  Dtype \n",
      "---  ------           --------------  ----- \n",
      " 0   connection       33711 non-null  object\n",
      " 1   timestamps       33711 non-null  object\n",
      " 2   sizes            33711 non-null  object\n",
      " 3   directions       33711 non-null  object\n",
      " 4   file_names       33711 non-null  object\n",
      " 5   directionstotal  33711 non-null  int64 \n",
      "dtypes: int64(1), object(5)\n",
      "memory usage: 1.8+ MB\n"
     ]
    }
   ],
   "source": [
    "vpn_data.info()"
   ]
  },
  {
   "cell_type": "code",
   "execution_count": 11,
   "id": "0d40fcd3",
   "metadata": {},
   "outputs": [
    {
     "data": {
      "text/html": [
       "<div>\n",
       "<style scoped>\n",
       "    .dataframe tbody tr th:only-of-type {\n",
       "        vertical-align: middle;\n",
       "    }\n",
       "\n",
       "    .dataframe tbody tr th {\n",
       "        vertical-align: top;\n",
       "    }\n",
       "\n",
       "    .dataframe thead th {\n",
       "        text-align: right;\n",
       "    }\n",
       "</style>\n",
       "<table border=\"1\" class=\"dataframe\">\n",
       "  <thead>\n",
       "    <tr style=\"text-align: right;\">\n",
       "      <th></th>\n",
       "      <th>connection</th>\n",
       "      <th>timestamps</th>\n",
       "      <th>sizes</th>\n",
       "      <th>directions</th>\n",
       "      <th>file_names</th>\n",
       "      <th>directionstotal</th>\n",
       "    </tr>\n",
       "  </thead>\n",
       "  <tbody>\n",
       "    <tr>\n",
       "      <th>0</th>\n",
       "      <td>(10.123.1.2, 1195, 10.123.1.1, 1195, 17)</td>\n",
       "      <td>[1563289706.330096, 1563289706.330207, 1563289...</td>\n",
       "      <td>[120, 88, 120, 88, 120, 88, 120, 120, 152, 120...</td>\n",
       "      <td>[1, 0, 0, 1, 1, 0, 0, 0, 1, 1, 0, 1, 1, 0, 0, ...</td>\n",
       "      <td>vpn_youtube_capture2.pcap</td>\n",
       "      <td>62283</td>\n",
       "    </tr>\n",
       "    <tr>\n",
       "      <th>0</th>\n",
       "      <td>(10.113.1.2, 22924, 10.115.1.2, 53, 17)</td>\n",
       "      <td>[1561391908.523659, 1561391908.524042]</td>\n",
       "      <td>[63, 79]</td>\n",
       "      <td>[1, 0]</td>\n",
       "      <td>nonvpn_sftp_newcapture1.pcap</td>\n",
       "      <td>2</td>\n",
       "    </tr>\n",
       "    <tr>\n",
       "      <th>1</th>\n",
       "      <td>(10.113.1.2, 53065, 10.115.1.2, 53, 17)</td>\n",
       "      <td>[1561391908.523706, 1561391908.524059]</td>\n",
       "      <td>[63, 63]</td>\n",
       "      <td>[1, 0]</td>\n",
       "      <td>nonvpn_sftp_newcapture1.pcap</td>\n",
       "      <td>2</td>\n",
       "    </tr>\n",
       "    <tr>\n",
       "      <th>2</th>\n",
       "      <td>(10.113.1.150, 39816, 10.115.1.123, 22, 6)</td>\n",
       "      <td>[1561391908.524836, 1561391908.525027, 1561391...</td>\n",
       "      <td>[60, 60, 52, 73, 52, 73, 52, 1378, 222, 52, 13...</td>\n",
       "      <td>[1, 0, 1, 1, 0, 0, 1, 1, 1, 0, 0, 1, 0, 1, 0, ...</td>\n",
       "      <td>nonvpn_sftp_newcapture1.pcap</td>\n",
       "      <td>2002346</td>\n",
       "    </tr>\n",
       "    <tr>\n",
       "      <th>3</th>\n",
       "      <td>(10.115.1.2, 6589, 10.113.1.2, 53, 17)</td>\n",
       "      <td>[1561391908.594887, 1561391908.595301]</td>\n",
       "      <td>[51, 102]</td>\n",
       "      <td>[1, 0]</td>\n",
       "      <td>nonvpn_sftp_newcapture1.pcap</td>\n",
       "      <td>2</td>\n",
       "    </tr>\n",
       "  </tbody>\n",
       "</table>\n",
       "</div>"
      ],
      "text/plain": [
       "                                   connection  \\\n",
       "0    (10.123.1.2, 1195, 10.123.1.1, 1195, 17)   \n",
       "0     (10.113.1.2, 22924, 10.115.1.2, 53, 17)   \n",
       "1     (10.113.1.2, 53065, 10.115.1.2, 53, 17)   \n",
       "2  (10.113.1.150, 39816, 10.115.1.123, 22, 6)   \n",
       "3      (10.115.1.2, 6589, 10.113.1.2, 53, 17)   \n",
       "\n",
       "                                          timestamps  \\\n",
       "0  [1563289706.330096, 1563289706.330207, 1563289...   \n",
       "0             [1561391908.523659, 1561391908.524042]   \n",
       "1             [1561391908.523706, 1561391908.524059]   \n",
       "2  [1561391908.524836, 1561391908.525027, 1561391...   \n",
       "3             [1561391908.594887, 1561391908.595301]   \n",
       "\n",
       "                                               sizes  \\\n",
       "0  [120, 88, 120, 88, 120, 88, 120, 120, 152, 120...   \n",
       "0                                           [63, 79]   \n",
       "1                                           [63, 63]   \n",
       "2  [60, 60, 52, 73, 52, 73, 52, 1378, 222, 52, 13...   \n",
       "3                                          [51, 102]   \n",
       "\n",
       "                                          directions  \\\n",
       "0  [1, 0, 0, 1, 1, 0, 0, 0, 1, 1, 0, 1, 1, 0, 0, ...   \n",
       "0                                             [1, 0]   \n",
       "1                                             [1, 0]   \n",
       "2  [1, 0, 1, 1, 0, 0, 1, 1, 1, 0, 0, 1, 0, 1, 0, ...   \n",
       "3                                             [1, 0]   \n",
       "\n",
       "                     file_names  directionstotal  \n",
       "0     vpn_youtube_capture2.pcap            62283  \n",
       "0  nonvpn_sftp_newcapture1.pcap                2  \n",
       "1  nonvpn_sftp_newcapture1.pcap                2  \n",
       "2  nonvpn_sftp_newcapture1.pcap          2002346  \n",
       "3  nonvpn_sftp_newcapture1.pcap                2  "
      ]
     },
     "execution_count": 11,
     "metadata": {},
     "output_type": "execute_result"
    }
   ],
   "source": [
    "vpn_data.head()"
   ]
  },
  {
   "cell_type": "markdown",
   "id": "28ee0ba1",
   "metadata": {},
   "source": [
    "# Next we calculate the total packet sizes"
   ]
  },
  {
   "cell_type": "code",
   "execution_count": 5,
   "id": "ecea2f8f",
   "metadata": {
    "scrolled": false
   },
   "outputs": [],
   "source": [
    "vpn_data['sizestotal'] = vpn_data['sizes']"
   ]
  },
  {
   "cell_type": "code",
   "execution_count": 6,
   "id": "0b22d54c",
   "metadata": {},
   "outputs": [],
   "source": [
    "i = 0\n",
    "while (i < 33711):\n",
    "    vpn_data.sizestotal.iloc[i] = np.sum(vpn_data.sizes.iloc[i])\n",
    "    i = i + 1"
   ]
  },
  {
   "cell_type": "code",
   "execution_count": 14,
   "id": "d8c09d56",
   "metadata": {},
   "outputs": [
    {
     "data": {
      "text/html": [
       "<div>\n",
       "<style scoped>\n",
       "    .dataframe tbody tr th:only-of-type {\n",
       "        vertical-align: middle;\n",
       "    }\n",
       "\n",
       "    .dataframe tbody tr th {\n",
       "        vertical-align: top;\n",
       "    }\n",
       "\n",
       "    .dataframe thead th {\n",
       "        text-align: right;\n",
       "    }\n",
       "</style>\n",
       "<table border=\"1\" class=\"dataframe\">\n",
       "  <thead>\n",
       "    <tr style=\"text-align: right;\">\n",
       "      <th></th>\n",
       "      <th>connection</th>\n",
       "      <th>timestamps</th>\n",
       "      <th>sizes</th>\n",
       "      <th>directions</th>\n",
       "      <th>file_names</th>\n",
       "      <th>directionstotal</th>\n",
       "      <th>sizestotal</th>\n",
       "    </tr>\n",
       "  </thead>\n",
       "  <tbody>\n",
       "    <tr>\n",
       "      <th>99</th>\n",
       "      <td>(10.113.1.2, 47393, 10.115.1.2, 53, 17)</td>\n",
       "      <td>[1561392385.983136, 1561392385.983284]</td>\n",
       "      <td>[63, 63]</td>\n",
       "      <td>[1, 0]</td>\n",
       "      <td>nonvpn_sftp_newcapture1.pcap</td>\n",
       "      <td>2</td>\n",
       "      <td>126</td>\n",
       "    </tr>\n",
       "    <tr>\n",
       "      <th>100</th>\n",
       "      <td>(10.113.1.2, 31113, 10.115.1.2, 53, 17)</td>\n",
       "      <td>[1561392385.984302, 1561392385.98446]</td>\n",
       "      <td>[63, 79]</td>\n",
       "      <td>[1, 0]</td>\n",
       "      <td>nonvpn_sftp_newcapture1.pcap</td>\n",
       "      <td>2</td>\n",
       "      <td>142</td>\n",
       "    </tr>\n",
       "    <tr>\n",
       "      <th>101</th>\n",
       "      <td>(10.113.1.2, 52210, 10.115.1.2, 53, 17)</td>\n",
       "      <td>[1561392385.984372, 1561392385.984513]</td>\n",
       "      <td>[63, 63]</td>\n",
       "      <td>[1, 0]</td>\n",
       "      <td>nonvpn_sftp_newcapture1.pcap</td>\n",
       "      <td>2</td>\n",
       "      <td>126</td>\n",
       "    </tr>\n",
       "    <tr>\n",
       "      <th>102</th>\n",
       "      <td>(10.115.1.2, 9827, 10.113.1.2, 53, 17)</td>\n",
       "      <td>[1561392385.994696, 1561392385.995104]</td>\n",
       "      <td>[63, 79]</td>\n",
       "      <td>[1, 0]</td>\n",
       "      <td>nonvpn_sftp_newcapture1.pcap</td>\n",
       "      <td>2</td>\n",
       "      <td>142</td>\n",
       "    </tr>\n",
       "    <tr>\n",
       "      <th>103</th>\n",
       "      <td>(10.115.1.2, 52460, 10.113.1.2, 53, 17)</td>\n",
       "      <td>[1561392385.994754, 1561392385.995153]</td>\n",
       "      <td>[63, 63]</td>\n",
       "      <td>[1, 0]</td>\n",
       "      <td>nonvpn_sftp_newcapture1.pcap</td>\n",
       "      <td>2</td>\n",
       "      <td>126</td>\n",
       "    </tr>\n",
       "    <tr>\n",
       "      <th>104</th>\n",
       "      <td>(10.115.1.2, 64652, 10.113.1.2, 53, 17)</td>\n",
       "      <td>[1561392385.997229, 1561392385.997602]</td>\n",
       "      <td>[63, 79]</td>\n",
       "      <td>[1, 0]</td>\n",
       "      <td>nonvpn_sftp_newcapture1.pcap</td>\n",
       "      <td>2</td>\n",
       "      <td>142</td>\n",
       "    </tr>\n",
       "    <tr>\n",
       "      <th>105</th>\n",
       "      <td>(10.115.1.2, 3089, 10.113.1.2, 53, 17)</td>\n",
       "      <td>[1561392385.99731, 1561392385.997626]</td>\n",
       "      <td>[63, 63]</td>\n",
       "      <td>[1, 0]</td>\n",
       "      <td>nonvpn_sftp_newcapture1.pcap</td>\n",
       "      <td>2</td>\n",
       "      <td>126</td>\n",
       "    </tr>\n",
       "    <tr>\n",
       "      <th>106</th>\n",
       "      <td>(10.115.1.2, 37208, 10.113.1.2, 53, 17)</td>\n",
       "      <td>[1561392386.137728, 1561392386.138196]</td>\n",
       "      <td>[63, 79]</td>\n",
       "      <td>[1, 0]</td>\n",
       "      <td>nonvpn_sftp_newcapture1.pcap</td>\n",
       "      <td>2</td>\n",
       "      <td>142</td>\n",
       "    </tr>\n",
       "    <tr>\n",
       "      <th>107</th>\n",
       "      <td>(10.115.1.2, 28154, 10.113.1.2, 53, 17)</td>\n",
       "      <td>[1561392386.137791, 1561392386.13822]</td>\n",
       "      <td>[63, 63]</td>\n",
       "      <td>[1, 0]</td>\n",
       "      <td>nonvpn_sftp_newcapture1.pcap</td>\n",
       "      <td>2</td>\n",
       "      <td>126</td>\n",
       "    </tr>\n",
       "    <tr>\n",
       "      <th>108</th>\n",
       "      <td>(10.115.1.2, 65416, 10.113.1.2, 53, 17)</td>\n",
       "      <td>[1561392386.156781, 1561392386.157207]</td>\n",
       "      <td>[63, 79]</td>\n",
       "      <td>[1, 0]</td>\n",
       "      <td>nonvpn_sftp_newcapture1.pcap</td>\n",
       "      <td>2</td>\n",
       "      <td>142</td>\n",
       "    </tr>\n",
       "  </tbody>\n",
       "</table>\n",
       "</div>"
      ],
      "text/plain": [
       "                                  connection  \\\n",
       "99   (10.113.1.2, 47393, 10.115.1.2, 53, 17)   \n",
       "100  (10.113.1.2, 31113, 10.115.1.2, 53, 17)   \n",
       "101  (10.113.1.2, 52210, 10.115.1.2, 53, 17)   \n",
       "102   (10.115.1.2, 9827, 10.113.1.2, 53, 17)   \n",
       "103  (10.115.1.2, 52460, 10.113.1.2, 53, 17)   \n",
       "104  (10.115.1.2, 64652, 10.113.1.2, 53, 17)   \n",
       "105   (10.115.1.2, 3089, 10.113.1.2, 53, 17)   \n",
       "106  (10.115.1.2, 37208, 10.113.1.2, 53, 17)   \n",
       "107  (10.115.1.2, 28154, 10.113.1.2, 53, 17)   \n",
       "108  (10.115.1.2, 65416, 10.113.1.2, 53, 17)   \n",
       "\n",
       "                                 timestamps     sizes directions  \\\n",
       "99   [1561392385.983136, 1561392385.983284]  [63, 63]     [1, 0]   \n",
       "100   [1561392385.984302, 1561392385.98446]  [63, 79]     [1, 0]   \n",
       "101  [1561392385.984372, 1561392385.984513]  [63, 63]     [1, 0]   \n",
       "102  [1561392385.994696, 1561392385.995104]  [63, 79]     [1, 0]   \n",
       "103  [1561392385.994754, 1561392385.995153]  [63, 63]     [1, 0]   \n",
       "104  [1561392385.997229, 1561392385.997602]  [63, 79]     [1, 0]   \n",
       "105   [1561392385.99731, 1561392385.997626]  [63, 63]     [1, 0]   \n",
       "106  [1561392386.137728, 1561392386.138196]  [63, 79]     [1, 0]   \n",
       "107   [1561392386.137791, 1561392386.13822]  [63, 63]     [1, 0]   \n",
       "108  [1561392386.156781, 1561392386.157207]  [63, 79]     [1, 0]   \n",
       "\n",
       "                       file_names  directionstotal sizestotal  \n",
       "99   nonvpn_sftp_newcapture1.pcap                2        126  \n",
       "100  nonvpn_sftp_newcapture1.pcap                2        142  \n",
       "101  nonvpn_sftp_newcapture1.pcap                2        126  \n",
       "102  nonvpn_sftp_newcapture1.pcap                2        142  \n",
       "103  nonvpn_sftp_newcapture1.pcap                2        126  \n",
       "104  nonvpn_sftp_newcapture1.pcap                2        142  \n",
       "105  nonvpn_sftp_newcapture1.pcap                2        126  \n",
       "106  nonvpn_sftp_newcapture1.pcap                2        142  \n",
       "107  nonvpn_sftp_newcapture1.pcap                2        126  \n",
       "108  nonvpn_sftp_newcapture1.pcap                2        142  "
      ]
     },
     "execution_count": 14,
     "metadata": {},
     "output_type": "execute_result"
    }
   ],
   "source": [
    "vpn_data[100:110]"
   ]
  },
  {
   "cell_type": "markdown",
   "id": "ff64e06c",
   "metadata": {},
   "source": [
    "# Next we calculate the average packet size"
   ]
  },
  {
   "cell_type": "code",
   "execution_count": 7,
   "id": "3b42140c",
   "metadata": {},
   "outputs": [],
   "source": [
    "vpn_data['average_package'] = vpn_data['sizestotal']"
   ]
  },
  {
   "cell_type": "code",
   "execution_count": 8,
   "id": "c912ee5b",
   "metadata": {},
   "outputs": [],
   "source": [
    "i = 0\n",
    "while (i < 33711):\n",
    "    vpn_data.average_package.iloc[i] = vpn_data.sizestotal.iloc[i]/vpn_data.directionstotal.iloc[i]\n",
    "    i = i + 1"
   ]
  },
  {
   "cell_type": "code",
   "execution_count": 9,
   "id": "03910d18",
   "metadata": {},
   "outputs": [],
   "source": [
    "vpn_data['sizestotal'] = vpn_data['sizestotal'].astype(str).astype(int) # Change Dtype from object to int\n",
    "vpn_data['average_package'] = vpn_data['average_package'].astype(str).astype(float) # Change Dtype from object to float"
   ]
  },
  {
   "cell_type": "code",
   "execution_count": 18,
   "id": "eb668197",
   "metadata": {},
   "outputs": [
    {
     "name": "stdout",
     "output_type": "stream",
     "text": [
      "<class 'pandas.core.frame.DataFrame'>\n",
      "Int64Index: 33711 entries, 0 to 0\n",
      "Data columns (total 8 columns):\n",
      " #   Column           Non-Null Count  Dtype  \n",
      "---  ------           --------------  -----  \n",
      " 0   connection       33711 non-null  object \n",
      " 1   timestamps       33711 non-null  object \n",
      " 2   sizes            33711 non-null  object \n",
      " 3   directions       33711 non-null  object \n",
      " 4   file_names       33711 non-null  object \n",
      " 5   directionstotal  33711 non-null  int64  \n",
      " 6   sizestotal       33711 non-null  int64  \n",
      " 7   average_package  33711 non-null  float64\n",
      "dtypes: float64(1), int64(2), object(5)\n",
      "memory usage: 2.3+ MB\n"
     ]
    }
   ],
   "source": [
    "vpn_data.info()"
   ]
  },
  {
   "cell_type": "code",
   "execution_count": 19,
   "id": "9bb27bb5",
   "metadata": {},
   "outputs": [
    {
     "data": {
      "text/plain": [
       "<AxesSubplot:>"
      ]
     },
     "execution_count": 19,
     "metadata": {},
     "output_type": "execute_result"
    },
    {
     "data": {
      "image/png": "[encoded data removed]",
      "text/plain": [
       "<Figure size 640x480 with 1 Axes>"
      ]
     },
     "metadata": {},
     "output_type": "display_data"
    }
   ],
   "source": [
    "vpn_data['average_package'].hist(range=[0, 1000], align='mid')"
   ]
  },
  {
   "cell_type": "code",
   "execution_count": 20,
   "id": "1546f4c8",
   "metadata": {},
   "outputs": [
    {
     "data": {
      "text/plain": [
       "<AxesSubplot:>"
      ]
     },
     "execution_count": 20,
     "metadata": {},
     "output_type": "execute_result"
    },
    {
     "data": {
      "image/png": "[encoded data removed]",
      "text/plain": [
       "<Figure size 640x480 with 1 Axes>"
      ]
     },
     "metadata": {},
     "output_type": "display_data"
    }
   ],
   "source": [
    "vpn_data['average_package'].hist(range=[0, 300], align='mid')"
   ]
  },
  {
   "cell_type": "code",
   "execution_count": 21,
   "id": "de104f81",
   "metadata": {
    "scrolled": false
   },
   "outputs": [
    {
     "data": {
      "text/plain": [
       "<AxesSubplot:>"
      ]
     },
     "execution_count": 21,
     "metadata": {},
     "output_type": "execute_result"
    },
    {
     "data": {
      "image/png": "[encoded data removed]",
      "text/plain": [
       "<Figure size 640x480 with 1 Axes>"
      ]
     },
     "metadata": {},
     "output_type": "display_data"
    }
   ],
   "source": [
    "vpn_data['sizestotal'].hist(range=[0, 2000], align='mid')"
   ]
  },
  {
   "cell_type": "code",
   "execution_count": 22,
   "id": "1efcdc3a",
   "metadata": {
    "scrolled": false
   },
   "outputs": [
    {
     "data": {
      "text/plain": [
       "<AxesSubplot:>"
      ]
     },
     "execution_count": 22,
     "metadata": {},
     "output_type": "execute_result"
    },
    {
     "data": {
      "image/png": "[encoded data removed]",
      "text/plain": [
       "<Figure size 640x480 with 1 Axes>"
      ]
     },
     "metadata": {},
     "output_type": "display_data"
    }
   ],
   "source": [
    "vpn_data['directionstotal'].hist(range=[0, 10], align='mid')"
   ]
  },
  {
   "cell_type": "code",
   "execution_count": 10,
   "id": "12a78700",
   "metadata": {},
   "outputs": [],
   "source": [
    "vpn_data['remove_numbers'] = vpn_data['file_names']"
   ]
  },
  {
   "cell_type": "code",
   "execution_count": 11,
   "id": "0e3301c4",
   "metadata": {},
   "outputs": [],
   "source": [
    "index = 0\n",
    "while (index < 33711):\n",
    "    vpn_data.remove_numbers.iloc[index] = ''.join([i for i in vpn_data.remove_numbers.iloc[index] if not i.isdigit()])\n",
    "    vpn_data.remove_numbers.iloc[index] = ((vpn_data.remove_numbers.iloc[index]).replace('_',''))\n",
    "    vpn_data.remove_numbers.iloc[index] = ((vpn_data.remove_numbers.iloc[index]).replace('nonvpn',''))\n",
    "    vpn_data.remove_numbers.iloc[index] = ((vpn_data.remove_numbers.iloc[index]).replace('new',''))\n",
    "    vpn_data.remove_numbers.iloc[index] = ((vpn_data.remove_numbers.iloc[index]).replace('long',''))\n",
    "    index = index + 1"
   ]
  },
  {
   "cell_type": "code",
   "execution_count": 14,
   "id": "c8adabf8",
   "metadata": {
    "scrolled": false
   },
   "outputs": [
    {
     "name": "stdout",
     "output_type": "stream",
     "text": [
      "How many captures were there?\n",
      "remove_numbers\n",
      "netflixcapture.pcap         204\n",
      "rsynccapture.pcap          1911\n",
      "scpcapture.pcap           12843\n",
      "sftpcapture.pcap           1666\n",
      "skype-chatcapture.pcap     1244\n",
      "sshcapture.pcap           13558\n",
      "vimeocapture.pcap          1217\n",
      "voipcapture.pcap            318\n",
      "youtubecapture.pcap         338\n",
      "Name: remove_numbers, dtype: int64\n",
      "\n",
      "-----------------------------\n",
      "The size of the average package from the traffic:\n",
      "remove_numbers\n",
      "netflixcapture.pcap       437.75\n",
      "rsynccapture.pcap          73.55\n",
      "scpcapture.pcap            88.89\n",
      "sftpcapture.pcap           71.62\n",
      "skype-chatcapture.pcap    232.63\n",
      "sshcapture.pcap            68.41\n",
      "vimeocapture.pcap         323.87\n",
      "voipcapture.pcap           74.86\n",
      "youtubecapture.pcap       346.85\n",
      "Name: average_package, dtype: float64\n",
      "\n",
      "-----------------------------\n",
      "Mean of the total directions of traffic:\n",
      "remove_numbers\n",
      "netflixcapture.pcap       3765.19\n",
      "rsynccapture.pcap          649.04\n",
      "scpcapture.pcap           1086.04\n",
      "sftpcapture.pcap          2734.09\n",
      "skype-chatcapture.pcap     243.36\n",
      "sshcapture.pcap              5.56\n",
      "vimeocapture.pcap          500.57\n",
      "voipcapture.pcap          1258.76\n",
      "youtubecapture.pcap        832.19\n",
      "Name: directionstotal, dtype: float64\n",
      "\n",
      "-----------------------------\n",
      "The total size of the average traffic:\n",
      "remove_numbers\n",
      "netflixcapture.pcap       3705311.19\n",
      "rsynccapture.pcap          603348.40\n",
      "scpcapture.pcap           1016406.05\n",
      "sftpcapture.pcap          2500397.56\n",
      "skype-chatcapture.pcap      50617.62\n",
      "sshcapture.pcap               735.35\n",
      "vimeocapture.pcap          433855.82\n",
      "voipcapture.pcap            68290.33\n",
      "youtubecapture.pcap        714366.15\n",
      "Name: sizestotal, dtype: float64\n"
     ]
    }
   ],
   "source": [
    "pd.set_option('display.max_rows', 500)\n",
    "grp = vpn_data.groupby('remove_numbers')\n",
    "total_directions = grp['directionstotal'].agg(np.mean)\n",
    "cleaner_files = grp['remove_numbers'].count()\n",
    "average_package = grp['average_package'].agg(np.mean)\n",
    "average_traffic_totalsize = grp['sizestotal'].agg(np.mean)\n",
    "\n",
    "print(\"How many captures were there?\")\n",
    "print(cleaner_files)\n",
    "\n",
    "print(\"\\n-----------------------------\")\n",
    "print(\"The size of the average package from the traffic:\")\n",
    "print(round(average_package, 2))\n",
    "\n",
    "print(\"\\n-----------------------------\")\n",
    "print(\"Mean of the total directions of traffic:\")\n",
    "print(round(total_directions, 2))\n",
    "\n",
    "print(\"\\n-----------------------------\")\n",
    "print(\"The total size of the average traffic:\")\n",
    "print(round(average_traffic_totalsize, 2))"
   ]
  },
  {
   "cell_type": "code",
   "execution_count": 13,
   "id": "db36df43",
   "metadata": {},
   "outputs": [],
   "source": [
    "vpn_data = vpn_data[vpn_data[\"remove_numbers\"].str.contains(\"vpnnetflixcapture.pcap|vpnrdpcapture.pcap|vpnrsynccapture.pcap|vpnscpcapture.pcap|vpnsftpcapture.pcap|vpnsshcapture.pcap|vpnvimeocapture.pcap|vpnyoutubecapture.pcap|rdpcapture.pcap|vpnskype-chatcapture.pcap|vpnvoipcapture.pcap\") == False]"
   ]
  },
  {
   "cell_type": "markdown",
   "id": "33c2e92f",
   "metadata": {},
   "source": [
    "# I removed some traffic categories, which didn't have enough data. For example, the VPN traffic only had a few captures. Out of 33,711 captures, I'm using 33,299 for the ML model."
   ]
  },
  {
   "cell_type": "code",
   "execution_count": 28,
   "id": "17850a3c",
   "metadata": {},
   "outputs": [
    {
     "data": {
      "image/png": "[encoded data removed]",
      "text/plain": [
       "<Figure size 1600x500 with 1 Axes>"
      ]
     },
     "metadata": {},
     "output_type": "display_data"
    }
   ],
   "source": [
    "plt.figure(figsize=(16,5))\n",
    "plt.plot(average_package, 'ro')\n",
    "plt.xticks(rotation=20)\n",
    "plt.title('The average package size')\n",
    "plt.show()"
   ]
  },
  {
   "cell_type": "code",
   "execution_count": 29,
   "id": "3baa72fc",
   "metadata": {
    "scrolled": false
   },
   "outputs": [
    {
     "data": {
      "image/png": "[encoded data removed]",
      "text/plain": [
       "<Figure size 1600x500 with 1 Axes>"
      ]
     },
     "metadata": {},
     "output_type": "display_data"
    }
   ],
   "source": [
    "plt.figure(figsize=(16,5))\n",
    "plt.plot(total_directions, 'ro')\n",
    "plt.xticks(rotation=20)\n",
    "plt.title('The average amount of directions/traffic')\n",
    "plt.show()"
   ]
  },
  {
   "cell_type": "code",
   "execution_count": 15,
   "id": "e2942cdd",
   "metadata": {},
   "outputs": [
    {
     "data": {
      "text/plain": [
       "(33299, 9)"
      ]
     },
     "execution_count": 15,
     "metadata": {},
     "output_type": "execute_result"
    }
   ],
   "source": [
    "vpn_data.shape"
   ]
  },
  {
   "cell_type": "code",
   "execution_count": 16,
   "id": "93ca0db7",
   "metadata": {},
   "outputs": [],
   "source": [
    "vpn_data['category'] = vpn_data['directionstotal']"
   ]
  },
  {
   "cell_type": "code",
   "execution_count": 17,
   "id": "480feade",
   "metadata": {},
   "outputs": [],
   "source": [
    "i = 0\n",
    "while (i < 33299):\n",
    "    if vpn_data.remove_numbers.iloc[i] == (\"netflixcapture.pcap\") or vpn_data.remove_numbers.iloc[i] == (\"vimeocapture.pcap\") or vpn_data.remove_numbers.iloc[i] == (\"youtubecapture.pcap\"):\n",
    "        vpn_data.category.iloc[i] = 1\n",
    "    elif vpn_data.remove_numbers.iloc[i] == (\"skype-chatcapture.pcap\"):\n",
    "        vpn_data.category.iloc[i] = 2\n",
    "    else:\n",
    "        vpn_data.category.iloc[i] = 3\n",
    "    i = i + 1"
   ]
  },
  {
   "cell_type": "markdown",
   "id": "7f5e037d",
   "metadata": {},
   "source": [
    "# Categories: 1. Streaming 2. Video Chat 3. C2, File transfer, VoIP"
   ]
  },
  {
   "cell_type": "markdown",
   "id": "f1f49de0",
   "metadata": {},
   "source": [
    "# Toteutuksen esittely"
   ]
  },
  {
   "cell_type": "code",
   "execution_count": 18,
   "id": "734e92e2",
   "metadata": {},
   "outputs": [],
   "source": [
    "ml_data = vpn_data[['average_package','directionstotal']].copy()\n",
    "mlc_data = vpn_data[['category']].copy()"
   ]
  },
  {
   "cell_type": "code",
   "execution_count": 33,
   "id": "adb25f68",
   "metadata": {},
   "outputs": [],
   "source": [
    "X = ml_data.to_numpy()\n",
    "y = mlc_data.to_numpy()\n",
    "y = np.reshape(y, (33299,))"
   ]
  },
  {
   "cell_type": "code",
   "execution_count": null,
   "id": "bd981d3a",
   "metadata": {},
   "outputs": [],
   "source": [
    "clf = svm.SVC(kernel='linear', C=1)\n",
    "clf.fit(X, y)\n",
    "\n",
    "plt.scatter(X[:, 0], X[:, 1], c=y, s=30,)\n",
    "\n",
    "# plot the decision function\n",
    "ax = plt.gca()\n",
    "xlim = ax.get_xlim()\n",
    "ylim = ax.get_ylim()\n",
    "\n",
    "# create grid to evaluate model\n",
    "xx = np.linspace(xlim[0], xlim[1], 30)\n",
    "yy = np.linspace(ylim[0], ylim[1], 30)\n",
    "YY, XX = np.meshgrid(yy, xx)\n",
    "xy = np.vstack([XX.ravel(), YY.ravel()]).T\n",
    "Z = clf.decision_function(xy).reshape(XX.shape)\n",
    "\n",
    "# plot decision boundary and margins\n",
    "ax.contour(XX, YY, Z, colors='k', levels=[-1, 0, 1], alpha=0.5,\n",
    "           linestyles=['--', '-', '--'])\n",
    "# plot support vectors\n",
    "ax.scatter(clf.support_vectors_[:, 0], clf.support_vectors_[:, 1], s=100,\n",
    "           linewidth=1, facecolors='none', edgecolors='k')\n",
    "plt.show()"
   ]
  }
 ],
 "metadata": {
  "kernelspec": {
   "display_name": "Python 3 (ipykernel)",
   "language": "python",
   "name": "python3"
  },
  "language_info": {
   "codemirror_mode": {
    "name": "ipython",
    "version": 3
   },
   "file_extension": ".py",
   "mimetype": "text/x-python",
   "name": "python",
   "nbconvert_exporter": "python",
   "pygments_lexer": "ipython3",
   "version": "3.10.6"
  }
 },
 "nbformat": 4,
 "nbformat_minor": 5
}
